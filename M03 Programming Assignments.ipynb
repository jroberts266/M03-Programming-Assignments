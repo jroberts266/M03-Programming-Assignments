{
 "cells": [
  {
   "cell_type": "code",
   "execution_count": 1,
   "id": "8df6457c",
   "metadata": {},
   "outputs": [
    {
     "name": "stdout",
     "output_type": "stream",
     "text": [
      "['MOZZARELLA', 'Cinderella']\n",
      "['Harry', 'Ron', 'Hermione']\n",
      "1\n",
      "3\n",
      "5\n",
      "7\n",
      "9\n",
      "None\n"
     ]
    }
   ],
   "source": [
    "# M03 Programming Assignments\n",
    "# Author: Joseph Roberts\n",
    "# Created: 2023-02-04\n",
    "# Assignments from chapters in book\n",
    "\n",
    "# Creates a list called things\n",
    "things = [\"mozzarella\", \"cinderella\", \"salmonella\"]\n",
    "\n",
    "# Changes the list item to start with a capital\n",
    "things[1] = \"Cinderella\"\n",
    "\n",
    "# Captialized the Cheese\n",
    "things[0] = \"MOZZARELLA\"\n",
    "\n",
    "# Deleted the disease\n",
    "del things[2]\n",
    "\n",
    "# Print List\n",
    "print(things)\n",
    "\n",
    "# Creates function called good that returns a list of names\n",
    "def good():\n",
    "    return ['Harry','Ron','Hermione']\n",
    "print(good())\n",
    "\n",
    "# Creates function that prints odd numbers in a set range. Currently set to 10\n",
    "def get_odds():\n",
    "    for x in range(10):\n",
    "        if x %2 != 0:\n",
    "            print(x)\n",
    "print(get_odds())\n",
    "\n",
    "\n",
    "\n",
    " "
   ]
  },
  {
   "cell_type": "code",
   "execution_count": null,
   "id": "51f442bc",
   "metadata": {},
   "outputs": [],
   "source": []
  }
 ],
 "metadata": {
  "kernelspec": {
   "display_name": "Python 3 (ipykernel)",
   "language": "python",
   "name": "python3"
  },
  "language_info": {
   "codemirror_mode": {
    "name": "ipython",
    "version": 3
   },
   "file_extension": ".py",
   "mimetype": "text/x-python",
   "name": "python",
   "nbconvert_exporter": "python",
   "pygments_lexer": "ipython3",
   "version": "3.9.13"
  }
 },
 "nbformat": 4,
 "nbformat_minor": 5
}
